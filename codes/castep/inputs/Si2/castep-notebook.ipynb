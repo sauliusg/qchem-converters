{
 "cells": [
  {
   "cell_type": "markdown",
   "metadata": {},
   "source": [
    "# Some things we did\n",
    "\n",
    "Today"
   ]
  },
  {
   "cell_type": "code",
   "execution_count": 36,
   "metadata": {
    "collapsed": true
   },
   "outputs": [],
   "source": [
    "import ase.io.castep"
   ]
  },
  {
   "cell_type": "code",
   "execution_count": 2,
   "metadata": {
    "collapsed": true
   },
   "outputs": [],
   "source": [
    "from ase.calculators.castep import CastepCell, CastepParam, Castep"
   ]
  },
  {
   "cell_type": "code",
   "execution_count": 5,
   "metadata": {
    "collapsed": false
   },
   "outputs": [],
   "source": [
    "atoms = ase.io.castep.read_cell('Si2.cell')"
   ]
  },
  {
   "cell_type": "code",
   "execution_count": 8,
   "metadata": {
    "collapsed": true
   },
   "outputs": [],
   "source": [
    "param = ase.io.castep.read_param('Si2.param')"
   ]
  },
  {
   "cell_type": "code",
   "execution_count": 23,
   "metadata": {
    "collapsed": false
   },
   "outputs": [],
   "source": [
    "castep = Castep()\n",
    "castep.merge_param('Si2.param')\n",
    "castep.read('Si2.castep')"
   ]
  },
  {
   "cell_type": "code",
   "execution_count": 27,
   "metadata": {
    "collapsed": false
   },
   "outputs": [
    {
     "data": {
      "text/plain": [
       "Atoms(symbols='Si2', positions=..., magmoms=..., cell=[[2.6954645, 2.6954645, 0.0], [2.6954645, 0.0, 2.6954645], [0.0, 2.6954645, 2.6954645]], pbc=[True, True, True], calculator=Castep(...))"
      ]
     },
     "execution_count": 27,
     "metadata": {},
     "output_type": "execute_result"
    }
   ],
   "source": [
    "castep.atoms"
   ]
  },
  {
   "cell_type": "code",
   "execution_count": 29,
   "metadata": {
    "collapsed": false
   },
   "outputs": [
    {
     "data": {
      "text/plain": [
       "-216.0909760899"
      ]
     },
     "execution_count": 29,
     "metadata": {},
     "output_type": "execute_result"
    }
   ],
   "source": [
    "castep._energy_total"
   ]
  },
  {
   "cell_type": "code",
   "execution_count": 30,
   "metadata": {
    "collapsed": false
   },
   "outputs": [
    {
     "data": {
      "text/plain": [
       "array([[ 0.,  0.,  0.],\n",
       "       [-0.,  0., -0.]])"
      ]
     },
     "execution_count": 30,
     "metadata": {},
     "output_type": "execute_result"
    }
   ],
   "source": [
    "castep._forces"
   ]
  },
  {
   "cell_type": "code",
   "execution_count": 33,
   "metadata": {
    "collapsed": false
   },
   "outputs": [
    {
     "data": {
      "text/plain": [
       "{'atomic_init': Option: atomic_init[unset](Defined, Dummy),\n",
       " 'bs_kpoint_list': Option: bs_kpoint_list[unset](Block, Basic),\n",
       " 'bs_kpoint_mp_grid': Option: bs_kpoint_mp_grid[unset](Integer, Basic),\n",
       " 'bs_kpoint_mp_offset': Option: bs_kpoint_mp_offset[unset](Real, Basic),\n",
       " 'bs_kpoint_mp_spacing': Option: bs_kpoint_mp_spacing[unset](Physical, Basic),\n",
       " 'bs_kpoint_path': Option: bs_kpoint_path[unset](Block, Basic),\n",
       " 'bs_kpoint_path_spacing': Option: bs_kpoint_path_spacing[unset](Physical, Basic),\n",
       " 'bs_kpoints_list': Option: bs_kpoints_list[unset](Block, Basic),\n",
       " 'bs_kpoints_mp_grid': Option: bs_kpoints_mp_grid[unset](Integer, Basic),\n",
       " 'bs_kpoints_mp_offset': Option: bs_kpoints_mp_offset[unset](Real, Basic),\n",
       " 'bs_kpoints_mp_spacing': Option: bs_kpoints_mp_spacing[unset](Physical, Basic),\n",
       " 'bs_kpoints_path': Option: bs_kpoints_path[unset](Block, Basic),\n",
       " 'bs_kpoints_path_spacing': Option: bs_kpoints_path_spacing[unset](Physical, Basic),\n",
       " 'cell_constraints': Option: cell_constraints[unset](Block, Basic),\n",
       " 'cell_noise': Option: cell_noise[unset](Physical, Basic),\n",
       " 'chemical_potential': Option: chemical_potential[unset](Block, Basic),\n",
       " 'elnes_kpoint_list': Option: elnes_kpoint_list[unset](Block, Basic),\n",
       " 'elnes_kpoint_mp_grid': Option: elnes_kpoint_mp_grid[unset](Integer, Basic),\n",
       " 'elnes_kpoint_mp_offset': Option: elnes_kpoint_mp_offset[unset](Real, Basic),\n",
       " 'elnes_kpoint_mp_spacing': Option: elnes_kpoint_mp_spacing[unset](Physical, Basic),\n",
       " 'external_efield': Option: external_efield[unset](Block, Basic),\n",
       " 'external_pressure': Option: external_pressure[unset](Block, Basic),\n",
       " 'fix_all_cell': Option: fix_all_cell[unset](Boolean, Basic),\n",
       " 'fix_all_ions': Option: fix_all_ions[unset](Boolean, Basic),\n",
       " 'fix_com': Option: fix_com[unset](Boolean, Basic),\n",
       " 'fix_vol': Option: fix_vol[unset](Boolean, Basic),\n",
       " 'hubbard_alpha': Option: hubbard_alpha[unset](Block, Basic),\n",
       " 'hubbard_u': Option: hubbard_u[unset](Block, Basic),\n",
       " 'ionic_constraints': Option: ionic_constraints[unset](Block, Basic),\n",
       " 'ionic_velocities': Option: ionic_velocities[unset](Block, Basic),\n",
       " 'jcoupling_site': Option: jcoupling_site[unset](String, Basic),\n",
       " 'kpoint_list': Option: kpoint_list[unset](Block, Basic),\n",
       " 'kpoint_mp_grid': Option: kpoint_mp_grid[unset](Integer, Basic),\n",
       " 'kpoint_mp_offset': Option: kpoint_mp_offset[unset](Real, Basic),\n",
       " 'kpoint_mp_spacing': Option: kpoint_mp_spacing[unset](Physical, Basic),\n",
       " 'kpoints_list': Option: kpoints_list[unset](Block, Basic),\n",
       " 'kpoints_mp_grid': Option: kpoints_mp_grid[unset](Integer, Basic),\n",
       " 'kpoints_mp_offset': Option: kpoints_mp_offset[unset](Real, Basic),\n",
       " 'kpoints_mp_spacing': Option: kpoints_mp_spacing[unset](Physical, Basic),\n",
       " 'lattice_abc': Option: lattice_abc[unset](Block, Basic),\n",
       " 'lattice_cart': Option: lattice_cart[unset](Block, Basic),\n",
       " 'magres_kpoint_list': Option: magres_kpoint_list[unset](Block, Basic),\n",
       " 'magres_kpoint_mp_grid': Option: magres_kpoint_mp_grid[unset](Integer, Basic),\n",
       " 'magres_kpoint_mp_offset': Option: magres_kpoint_mp_offset[unset](Real, Basic),\n",
       " 'magres_kpoint_mp_spacing': Option: magres_kpoint_mp_spacing[unset](Physical, Basic),\n",
       " 'magres_kpoint_path': Option: magres_kpoint_path[unset](Block, Basic),\n",
       " 'magres_kpoint_path_spacing': Option: magres_kpoint_path_spacing[unset](Physical, Basic),\n",
       " 'nonlinear_constraints': Option: nonlinear_constraints[unset](Block, Basic),\n",
       " 'optics_kpoint_list': Option: optics_kpoint_list[unset](Block, Basic),\n",
       " 'optics_kpoint_mp_grid': Option: optics_kpoint_mp_grid[unset](Integer, Basic),\n",
       " 'optics_kpoint_mp_offset': Option: optics_kpoint_mp_offset[unset](Real, Basic),\n",
       " 'optics_kpoint_mp_spacing': Option: optics_kpoint_mp_spacing[unset](Physical, Basic),\n",
       " 'optics_kpoints_list': Option: optics_kpoints_list[unset](Block, Basic),\n",
       " 'optics_kpoints_mp_grid': Option: optics_kpoints_mp_grid[unset](Integer, Basic),\n",
       " 'optics_kpoints_mp_offset': Option: optics_kpoints_mp_offset[unset](Real, Basic),\n",
       " 'optics_kpoints_mp_spacing': Option: optics_kpoints_mp_spacing[unset](Physical, Basic),\n",
       " 'phonon_fine_kpoint_list': Option: phonon_fine_kpoint_list[unset](Block, Basic),\n",
       " 'phonon_fine_kpoint_mp_grid': Option: phonon_fine_kpoint_mp_grid[unset](Integer, Basic),\n",
       " 'phonon_fine_kpoint_mp_offset': Option: phonon_fine_kpoint_mp_offset[unset](Real, Basic),\n",
       " 'phonon_fine_kpoint_mp_spacing': Option: phonon_fine_kpoint_mp_spacing[unset](Physical, Basic),\n",
       " 'phonon_fine_kpoint_path': Option: phonon_fine_kpoint_path[unset](Block, Basic),\n",
       " 'phonon_fine_kpoint_path_spacing': Option: phonon_fine_kpoint_path_spacing[unset](Physical, Basic),\n",
       " 'phonon_gamma_directions': Option: phonon_gamma_directions[unset](Block, Basic),\n",
       " 'phonon_kpoint_list': Option: phonon_kpoint_list[unset](Block, Basic),\n",
       " 'phonon_kpoint_mp_grid': Option: phonon_kpoint_mp_grid[unset](Integer, Basic),\n",
       " 'phonon_kpoint_mp_offset': Option: phonon_kpoint_mp_offset[unset](Real, Basic),\n",
       " 'phonon_kpoint_mp_spacing': Option: phonon_kpoint_mp_spacing[unset](Physical, Basic),\n",
       " 'phonon_kpoint_path': Option: phonon_kpoint_path[unset](Block, Basic),\n",
       " 'phonon_kpoint_path_spacing': Option: phonon_kpoint_path_spacing[unset](Physical, Basic),\n",
       " 'phonon_kpoints_list': Option: phonon_kpoints_list[unset](Block, Basic),\n",
       " 'phonon_kpoints_path': Option: phonon_kpoints_path[unset](Block, Basic),\n",
       " 'phonon_kpoints_path_spacing': Option: phonon_kpoints_path_spacing[unset](Physical, Basic),\n",
       " 'phonon_supercell_matrix': Option: phonon_supercell_matrix[unset](Block, Basic),\n",
       " 'positions_abs': Option: positions_abs[unset](Block, Basic),\n",
       " 'positions_abs_intermediate': Option: positions_abs_intermediate[unset](Block, Basic),\n",
       " 'positions_abs_product': Option: positions_abs_product[unset](Block, Basic),\n",
       " 'positions_frac': Option: positions_frac[unset](Block, Basic),\n",
       " 'positions_frac_intermediate': Option: positions_frac_intermediate[unset](Block, Basic),\n",
       " 'positions_frac_product': Option: positions_frac_product[unset](Block, Basic),\n",
       " 'positions_noise': Option: positions_noise[unset](Physical, Basic),\n",
       " 'quantisation_axis': Option: quantisation_axis[unset](Real, Basic),\n",
       " 'quantization_axis': Option: quantization_axis[unset](Real, Basic),\n",
       " 'sedc_custom_params': Option: sedc_custom_params[unset](Block, Basic),\n",
       " 'snap_to_symmetry': Option: snap_to_symmetry[unset](Defined, Basic),\n",
       " 'species_gamma': Option: species_gamma[unset](Block, Basic),\n",
       " 'species_lcao_states': Option: species_lcao_states[unset](Block, Basic),\n",
       " 'species_mass': Option: species_mass[unset](Block, Basic),\n",
       " 'species_pot': Option: species_pot(Block, Basic):\n",
       " \n",
       " Si Si_00.usp,\n",
       " 'species_q': Option: species_q[unset](Block, Basic),\n",
       " 'spectral_kpoint_list': Option: spectral_kpoint_list[unset](Block, Basic),\n",
       " 'spectral_kpoint_mp_grid': Option: spectral_kpoint_mp_grid[unset](Integer, Basic),\n",
       " 'spectral_kpoint_mp_offset': Option: spectral_kpoint_mp_offset[unset](Real, Basic),\n",
       " 'spectral_kpoint_mp_spacing': Option: spectral_kpoint_mp_spacing[unset](Physical, Basic),\n",
       " 'spectral_kpoint_path': Option: spectral_kpoint_path[unset](Block, Basic),\n",
       " 'spectral_kpoint_path_spacing': Option: spectral_kpoint_path_spacing[unset](Physical, Basic),\n",
       " 'spectral_kpoints_list': Option: spectral_kpoints_list[unset](Block, Basic),\n",
       " 'spectral_kpoints_mp_grid': Option: spectral_kpoints_mp_grid[unset](Integer, Basic),\n",
       " 'spectral_kpoints_mp_offset': Option: spectral_kpoints_mp_offset[unset](Real, Basic),\n",
       " 'spectral_kpoints_mp_spacing': Option: spectral_kpoints_mp_spacing[unset](Physical, Basic),\n",
       " 'spectral_kpoints_path': Option: spectral_kpoints_path[unset](Block, Basic),\n",
       " 'spectral_kpoints_path_spacing': Option: spectral_kpoints_path_spacing[unset](Physical, Basic),\n",
       " 'supercell_kpoint_list': Option: supercell_kpoint_list[unset](Block, Basic),\n",
       " 'supercell_kpoint_mp_grid': Option: supercell_kpoint_mp_grid[unset](Integer, Basic),\n",
       " 'supercell_kpoint_mp_offset': Option: supercell_kpoint_mp_offset[unset](Real, Basic),\n",
       " 'supercell_kpoint_mp_spacing': Option: supercell_kpoint_mp_spacing[unset](Physical, Basic),\n",
       " 'supercell_kpoints_list': Option: supercell_kpoints_list[unset](Block, Basic),\n",
       " 'supercell_kpoints_mp_grid': Option: supercell_kpoints_mp_grid[unset](Integer, Basic),\n",
       " 'supercell_kpoints_mp_offset': Option: supercell_kpoints_mp_offset[unset](Real, Basic),\n",
       " 'supercell_kpoints_mp_spacing': Option: supercell_kpoints_mp_spacing[unset](Physical, Basic),\n",
       " 'supercell_matrix': Option: supercell_matrix[unset](Block, Basic),\n",
       " 'symmetry_generate': Option: symmetry_generate[unset](Defined, Basic),\n",
       " 'symmetry_ops': Option: symmetry_ops[unset](Block, Expert),\n",
       " 'symmetry_tol': Option: symmetry_tol[unset](Physical, Basic)}"
      ]
     },
     "execution_count": 33,
     "metadata": {},
     "output_type": "execute_result"
    }
   ],
   "source": [
    "castep.cell._options"
   ]
  },
  {
   "cell_type": "code",
   "execution_count": 43,
   "metadata": {
    "collapsed": false
   },
   "outputs": [],
   "source": [
    "import re\n",
    "\n",
    "param_name = re.compile('('+'|'.join(castep.param._options.keys())+')')"
   ]
  },
  {
   "cell_type": "code",
   "execution_count": 45,
   "metadata": {
    "collapsed": false
   },
   "outputs": [],
   "source": [
    "param_name.match('made_up_wrong_paramet')"
   ]
  },
  {
   "cell_type": "code",
   "execution_count": 49,
   "metadata": {
    "collapsed": false
   },
   "outputs": [
    {
     "data": {
      "text/plain": [
       "<_sre.SRE_Match at 0x105d227b0>"
      ]
     },
     "execution_count": 49,
     "metadata": {},
     "output_type": "execute_result"
    }
   ],
   "source": [
    "param_name.match ('xc_functional')"
   ]
  },
  {
   "cell_type": "code",
   "execution_count": 50,
   "metadata": {
    "collapsed": true
   },
   "outputs": [],
   "source": [
    "param_name.match ('martina')"
   ]
  },
  {
   "cell_type": "code",
   "execution_count": null,
   "metadata": {
    "collapsed": true
   },
   "outputs": [],
   "source": []
  },
  {
   "cell_type": "code",
   "execution_count": null,
   "metadata": {
    "collapsed": true
   },
   "outputs": [],
   "source": []
  }
 ],
 "metadata": {
  "kernelspec": {
   "display_name": "Python 2",
   "language": "python",
   "name": "python2"
  },
  "language_info": {
   "codemirror_mode": {
    "name": "ipython",
    "version": 2
   },
   "file_extension": ".py",
   "mimetype": "text/x-python",
   "name": "python",
   "nbconvert_exporter": "python",
   "pygments_lexer": "ipython2",
   "version": "2.7.11"
  }
 },
 "nbformat": 4,
 "nbformat_minor": 0
}
